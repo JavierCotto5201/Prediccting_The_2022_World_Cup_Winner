{
 "cells": [
  {
   "cell_type": "code",
   "execution_count": 1,
   "id": "a895c468-b018-45a2-8c9d-86dd9846c683",
   "metadata": {},
   "outputs": [],
   "source": [
    "from datetime import datetime\n",
    "import pandas as pd\n",
    "import numpy as np\n",
    "import os"
   ]
  },
  {
   "cell_type": "code",
   "execution_count": 2,
   "id": "b98696b3-8edd-438a-bfa7-73f16c495182",
   "metadata": {},
   "outputs": [],
   "source": [
    "def format_dataframe_from_fbref(df,country):\n",
    "    #ecuador = pd.read_csv('./data/teams/ecuador.csv',sep=';')\n",
    "    df['Date'] = pd.to_datetime(df['Date'], format='%d/%m/%Y')\n",
    "    df['opponnet'] = df['Opponent'].str.split(' ',1).str[1]\n",
    "    df.loc[df['Venue'] == 'Neutral', 'Venue'] = 'Home'\n",
    "    df['home_team'] = np.where(df['Venue'] == 'Home', country, df['opponnet'])\n",
    "    df['away_team'] = np.where(df['Venue'] == 'Away', country, df['opponnet'])\n",
    "    df['home_score'] = np.where(df['home_team'] == country, df['GF'], df['GA'])\n",
    "    df['away_score'] = np.where(df['away_team'] == country, df['GF'], df['GA'])\n",
    "    df['year'] = df['Date'].apply(lambda x : x.year)\n",
    "    df['month'] = df['Date'].apply(lambda x : x.month)\n",
    "    df['day'] = df['Date'].apply(lambda x : x.day)\n",
    "    df['home_team_wins'] = (df['home_score'] - df['away_score']) > 0\n",
    "    df['away_team_wins'] = (df['home_score'] - df['away_score']) < 0\n",
    "    df['draw'] = (df['home_score'] - df['away_score']) == 0\n",
    "    df.drop(['Opponent', 'Day','GF','GA','opponnet','Venue'], axis = 1, inplace = True)\n",
    "    return df"
   ]
  },
  {
   "cell_type": "code",
   "execution_count": 3,
   "id": "7aa612ec-037c-44ca-bbeb-45a6f35e4f99",
   "metadata": {},
   "outputs": [
    {
     "name": "stdout",
     "output_type": "stream",
     "text": [
      "arabia.csv\n",
      "argentina.csv\n",
      "australia.csv\n",
      "belgium.csv\n",
      "brazil.csv\n",
      "cameroon.csv\n",
      "canada.csv\n",
      "costa rica.csv\n",
      "croatia.csv\n",
      "denmark.csv\n",
      "ecuador.csv\n",
      "england.csv\n",
      "france.csv\n",
      "germany.csv\n",
      "ghana.csv\n",
      "holanda.csv\n",
      "iran.csv\n",
      "japan.csv\n",
      "korea.csv\n",
      "mexico.csv\n",
      "morocco.csv\n",
      "poland.csv\n",
      "portugal.csv\n",
      "qatar.csv\n",
      "senegal.csv\n",
      "serbia.csv\n",
      "spain.csv\n",
      "suiza.csv\n",
      "tunisia.csv\n",
      "uruguay.csv\n",
      "usa.csv\n",
      "wales.csv\n"
     ]
    }
   ],
   "source": [
    "path =\"./\"\n",
    "#we shall store all the file names in this list\n",
    "filelist = []\n",
    "\n",
    "for root, dirs, files in os.walk(path):\n",
    "    for file in files:\n",
    "        #append the file name to the list\n",
    "        if file.split('.')[1] == 'csv':\n",
    "            if file != 'world_cup_teams.csv':\n",
    "                print(file)\n",
    "                filelist.append(os.path.join(root,file))"
   ]
  },
  {
   "cell_type": "code",
   "execution_count": 4,
   "id": "93fc0636-0686-4473-984f-19f2becc683b",
   "metadata": {},
   "outputs": [
    {
     "name": "stdout",
     "output_type": "stream",
     "text": [
      "32\n"
     ]
    }
   ],
   "source": [
    "list_names = ['Saudi Arabia','Argentina','Australia ','Belgium','Brazil','Cameroon','Canada','Costa Rica',\n",
    "            'Croatia','Denmark','Ecuador','England','France','Germany','Ghana','Netherlands','IR Iran','Japan',\n",
    "             'Korea Republic','Mexico','Morocco','Poland','Portugal','Qatar','Senegal','Serbia','Spain',\n",
    "              'Switzerland','Tunisia','Uruguay','United States','Wales']\n",
    "print(len(list_names))"
   ]
  },
  {
   "cell_type": "code",
   "execution_count": 5,
   "id": "ff85ccee-c37d-42ef-8195-dd7bfca4e228",
   "metadata": {},
   "outputs": [],
   "source": [
    "#print all the file names\n",
    "list_df = []\n",
    "for name in filelist:\n",
    "    df = pd.read_csv(name,sep=';')\n",
    "    df['Date'] = pd.to_datetime(df['Date'], format='%d/%m/%Y')\n",
    "    list_df.append(df)"
   ]
  },
  {
   "cell_type": "code",
   "execution_count": 6,
   "id": "87256720-5301-412e-b362-b7535188531f",
   "metadata": {},
   "outputs": [],
   "source": [
    "list_filter_df = []\n",
    "for i in range(len(list_df)):\n",
    "    df = format_dataframe_from_fbref(list_df[i],list_names[i])\n",
    "    list_filter_df.append(df)"
   ]
  },
  {
   "cell_type": "code",
   "execution_count": 7,
   "id": "c1e91333-c26d-4c06-96d5-139b05456d1f",
   "metadata": {},
   "outputs": [],
   "source": [
    "wc_teams = pd.concat(list_filter_df, ignore_index=True)\n",
    "wc_teams.to_csv('world_cup_teams.csv', index = False, encoding='utf-8')"
   ]
  },
  {
   "cell_type": "code",
   "execution_count": null,
   "id": "d38ff306-769a-4357-ad89-aec6da351e9e",
   "metadata": {},
   "outputs": [],
   "source": []
  }
 ],
 "metadata": {
  "kernelspec": {
   "display_name": "Python 3 (ipykernel)",
   "language": "python",
   "name": "python3"
  },
  "language_info": {
   "codemirror_mode": {
    "name": "ipython",
    "version": 3
   },
   "file_extension": ".py",
   "mimetype": "text/x-python",
   "name": "python",
   "nbconvert_exporter": "python",
   "pygments_lexer": "ipython3",
   "version": "3.9.13"
  }
 },
 "nbformat": 4,
 "nbformat_minor": 5
}
